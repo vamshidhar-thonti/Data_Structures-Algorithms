{
 "cells": [
  {
   "cell_type": "code",
   "execution_count": 26,
   "metadata": {},
   "outputs": [
    {
     "name": "stdout",
     "output_type": "stream",
     "text": [
      "ihsmaV si eman yM iH\n",
      "ihsmaV si eman yM iH\n",
      "ihsmaV si eman yM iH\n"
     ]
    }
   ],
   "source": [
    "# Reverse a string\n",
    "\n",
    "value = 'Hi My name is Vamshi'\n",
    "\n",
    "print(value[::-1])\n",
    "\n",
    "val = ''\n",
    "for char in reversed(range(0,len(value))):\n",
    "    val += value[char]\n",
    "print(val)\n",
    "\n",
    "stack = [x for x in value]\n",
    "val2 = ''\n",
    "for _ in range(len(stack)):\n",
    "    val2 += stack.pop()\n",
    "\n",
    "print(val2)"
   ]
  },
  {
   "cell_type": "code",
   "execution_count": 61,
   "metadata": {},
   "outputs": [
    {
     "name": "stdout",
     "output_type": "stream",
     "text": [
      "[0, 3, 4, 4, 6, 30, 31, 38]\n"
     ]
    }
   ],
   "source": [
    "def mergeSortedArrays(list1, list2):\n",
    "    l1 = len(list1)\n",
    "    l2 = len(list2)\n",
    "    overall_length = l1 + l2\n",
    "    if l1 > l2:\n",
    "        length = l1\n",
    "    else:\n",
    "        length = l2\n",
    "    \n",
    "    list1_pointer, list2_pointer = 0, 0\n",
    "    sorted_array = []\n",
    "    count = 0\n",
    "    while(True):\n",
    "        # count += 1\n",
    "        # print(list1_pointer, list2_pointer)\n",
    "        if list1_pointer >= l1:\n",
    "            sorted_array += list2[list2_pointer:]\n",
    "            break\n",
    "        elif list2_pointer >= l2:\n",
    "            sorted_array += list1[list1_pointer:]\n",
    "            break\n",
    "        if list1[list1_pointer] < list2[list2_pointer]:\n",
    "            sorted_array.append(list1[list1_pointer])\n",
    "            list1_pointer += 1\n",
    "        else:\n",
    "            sorted_array.append(list2[list2_pointer])\n",
    "            list2_pointer += 1\n",
    "    \n",
    "    # print(count)\n",
    "    return sorted_array\n",
    "\n",
    "\n",
    "list1 = [0, 3, 4, 31]\n",
    "list2 = [4, 6, 30, 38]\n",
    "\n",
    "print(mergeSortedArrays(list1, list2))"
   ]
  }
 ],
 "metadata": {
  "language_info": {
   "name": "python"
  },
  "orig_nbformat": 4
 },
 "nbformat": 4,
 "nbformat_minor": 2
}
