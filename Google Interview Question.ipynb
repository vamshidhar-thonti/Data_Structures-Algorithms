{
 "cells": [
  {
   "cell_type": "code",
   "execution_count": 6,
   "metadata": {},
   "outputs": [
    {
     "name": "stdout",
     "output_type": "stream",
     "text": [
      "False\n"
     ]
    }
   ],
   "source": [
    "# Problem: print True if sum of any pair of an array is 8\n",
    "\n",
    "# Inputs: sorted arrary of integers\n",
    "# Output: return True or False\n",
    "\n",
    "# Solution:\n",
    "#     for loop1 starts at 0 index\n",
    "#      nested for loop2 starts at loop2 index + 1\n",
    "#         sum every possibilty and return a bool value\n",
    "\n",
    "def hasPairWithSum8(integer_array):\n",
    "    for index, value in enumerate(integer_array):\n",
    "        for value2 in integer_array[index + 1:]:\n",
    "            if value + value2 == 8:\n",
    "                return True\n",
    "\n",
    "    return False\n",
    "\n",
    "integers = [1, 2, 3, 4, 5]\n",
    "print(hasPairWithSum8(integers))\n",
    "\n",
    "# This solution is naive with O(n^2) complexity, as there are no new store houses or assignments O(1) is its space complexity."
   ]
  },
  {
   "cell_type": "code",
   "execution_count": 8,
   "metadata": {},
   "outputs": [
    {
     "name": "stdout",
     "output_type": "stream",
     "text": [
      "True\n"
     ]
    }
   ],
   "source": [
    "# start a pointer at 0 index and the other at last index\n",
    "# As the array is already sorted, we can sum first and last element and if the sum is < 8 move start pointer to the right\n",
    "# elif sum is < 8 move end pointer to the left else return True\n",
    "\n",
    "def hasPairWithSum8_2(integer_array1):\n",
    "    start_pointer = 0\n",
    "    end_pointer = len(integer_array1) - 1\n",
    "    while(start_pointer < end_pointer):\n",
    "        interim_value = integer_array1[start_pointer] + integer_array1[end_pointer]\n",
    "        if  interim_value < 8:\n",
    "            start_pointer += 1\n",
    "        elif interim_value > 8:\n",
    "            end_pointer -= 1\n",
    "        else:\n",
    "            return True\n",
    "    \n",
    "    return False\n",
    "\n",
    "integers_2 = [-2, -1, 2, 4, 9]\n",
    "print(hasPairWithSum8_2(integers_2))\n",
    "\n",
    "# Solution is of O(n) only if the array is sorted\n",
    "# If the input array is not a sorted one then it would be O(n logn) logn -> to sort the array first\n",
    "# Space complexity would be O(1)"
   ]
  },
  {
   "cell_type": "code",
   "execution_count": 13,
   "metadata": {},
   "outputs": [
    {
     "name": "stdout",
     "output_type": "stream",
     "text": [
      "False\n"
     ]
    }
   ],
   "source": [
    "# More enhanced way it get complements and check if the value is equal.\n",
    "# example: [1, 2, 3, 4, 5], complements[7, 6, 5, 4, 3]\n",
    "#             now check if the current element of input array exists in complements list\n",
    "#             if yes, return True\n",
    "\n",
    "def hasPairWithSum8_3(integer_array2, sum):\n",
    "    complements = set()\n",
    "    for value in integer_array2:\n",
    "        if value in complements:\n",
    "            return True\n",
    "        complements.add(sum - value)\n",
    "    return False\n",
    "\n",
    "integers_3 = [-2, -2, 2, 4, 9]\n",
    "if None in integers_3:\n",
    "    print(\"Invalid data\")\n",
    "else:\n",
    "    print(hasPairWithSum8_3(integers_3, 8))\n",
    "\n",
    "# Array is not sorted and solution has O(n) time complexity\n",
    "# Space complexity will be O(n) as we are creating a new set and adding elements into it for every iteration,\n",
    "# so worst case we may add all the elements into it which leads to O(n) Space"
   ]
  },
  {
   "cell_type": "markdown",
   "metadata": {},
   "source": [
    "First Recurring character\n",
    "\n",
    "# Google Question\n",
    "# Given an array = [2,5,1,2,3,5,1,2,4]:\n",
    "# It should return 2\n",
    "\n",
    "# Given an array = [2,1,1,2,3,5,1,2,4]:\n",
    "# It should return 1\n",
    "\n",
    "# Given an array = [2,3,4,5]:\n",
    "# It should return undefined"
   ]
  },
  {
   "cell_type": "code",
   "execution_count": 16,
   "metadata": {},
   "outputs": [
    {
     "name": "stdout",
     "output_type": "stream",
     "text": [
      "5\n"
     ]
    }
   ],
   "source": [
    "def firstRecurringCharacter(intArray):\n",
    "    map = {}\n",
    "    for value in intArray:\n",
    "        if value not in map:\n",
    "            map[value] = False\n",
    "        else:\n",
    "            return value\n",
    "    \n",
    "    # for key in map:\n",
    "    #     if map[key]:\n",
    "    #         return key\n",
    "\n",
    "    return None\n",
    "\n",
    "newArray = [2,5,5,2,3,5,1,2,4]\n",
    "print(firstRecurringCharacter(newArray))\n",
    "\n",
    "# Time Complexity is O(n)\n",
    "# Space Complexity is O(n)"
   ]
  }
 ],
 "metadata": {
  "interpreter": {
   "hash": "9a877f88cb98ada1254f7a98493cd30623844027d7cf8c17d374a696d9f7628a"
  },
  "kernelspec": {
   "display_name": "Python 3.10.0 64-bit",
   "name": "python3"
  },
  "language_info": {
   "codemirror_mode": {
    "name": "ipython",
    "version": 3
   },
   "file_extension": ".py",
   "mimetype": "text/x-python",
   "name": "python",
   "nbconvert_exporter": "python",
   "pygments_lexer": "ipython3",
   "version": "3.10.0"
  },
  "orig_nbformat": 4
 },
 "nbformat": 4,
 "nbformat_minor": 2
}
